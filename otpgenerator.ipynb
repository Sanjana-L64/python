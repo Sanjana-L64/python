{
  "nbformat": 4,
  "nbformat_minor": 0,
  "metadata": {
    "colab": {
      "provenance": [],
      "authorship_tag": "ABX9TyNe0kzhsa3B5nr1ACgQV7Xr",
      "include_colab_link": true
    },
    "kernelspec": {
      "name": "python3",
      "display_name": "Python 3"
    },
    "language_info": {
      "name": "python"
    }
  },
  "cells": [
    {
      "cell_type": "markdown",
      "metadata": {
        "id": "view-in-github",
        "colab_type": "text"
      },
      "source": [
        "<a href=\"https://colab.research.google.com/github/Sanjana-L64/python/blob/main/otpgenerator.ipynb\" target=\"_parent\"><img src=\"https://colab.research.google.com/assets/colab-badge.svg\" alt=\"Open In Colab\"/></a>"
      ]
    },
    {
      "cell_type": "code",
      "source": [
        "import random\n",
        "\n",
        "def generate_otp(length=6):\n",
        "    \"\"\"Generate a numeric OTP of given length.\"\"\"\n",
        "    if length <= 0:\n",
        "        raise ValueError(\"OTP length must be positive.\")\n",
        "    otp = ''.join([str(random.randint(0, 9)) for _ in range(length)])\n",
        "    return otp\n",
        "\n",
        "if __name__ == \"__main__\":\n",
        "    otp = generate_otp()\n",
        "    print(f\"Your OTP is: {otp}\")\n"
      ],
      "metadata": {
        "colab": {
          "base_uri": "https://localhost:8080/"
        },
        "id": "9yuXD7feHB5E",
        "outputId": "0af13bb4-baac-4deb-e04b-5b1ff4aff3b3"
      },
      "execution_count": 4,
      "outputs": [
        {
          "output_type": "stream",
          "name": "stdout",
          "text": [
            "Your OTP is: 570042\n"
          ]
        }
      ]
    },
    {
      "cell_type": "code",
      "source": [
        "import random\n",
        "\n",
        "def generate_otp(length=6):\n",
        "    \"\"\"Generate a numeric OTP of given length.\"\"\"\n",
        "    return ''.join([str(random.randint(0, 9)) for _ in range(length)])\n",
        "\n",
        "# Generate OTP\n",
        "otp = generate_otp()\n",
        "print(f\"Generated OTP (for testing): {otp}\")  # In real use, this would be sent to the user\n",
        "\n",
        "# Ask user to input OTP\n",
        "user_input = input(\"Enter the OTP: \")\n",
        "\n",
        "# Verify OTP\n",
        "if user_input == otp:\n",
        "    print(\"OTP verified successfully.\")\n",
        "else:\n",
        "    print(\"Wrong OTP.\")"
      ],
      "metadata": {
        "colab": {
          "base_uri": "https://localhost:8080/"
        },
        "id": "kicYn1WQI4Fo",
        "outputId": "f97b8b7d-e7be-4646-8276-cfac6fb5bc99"
      },
      "execution_count": 6,
      "outputs": [
        {
          "output_type": "stream",
          "name": "stdout",
          "text": [
            "Generated OTP (for testing): 678618\n",
            "Enter the OTP: 678618\n",
            "OTP verified successfully.\n"
          ]
        }
      ]
    }
  ]
}